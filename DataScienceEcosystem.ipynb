{
 "cells": [
  {
   "cell_type": "markdown",
   "id": "35b30538-0f36-4767-bc64-3dd19f6b5ff9",
   "metadata": {
    "tags": []
   },
   "source": [
    "# Data Science Tools and Ecosystem "
   ]
  },
  {
   "cell_type": "markdown",
   "id": "1cfdbc18-3d9a-4f82-a307-7e33a30fe944",
   "metadata": {},
   "source": [
    "The notebook Data Science Tools and Ecosystem explore different technologies, frameworks, and methodologies that together make the bedrock of the modern practice of data science."
   ]
  },
  {
   "cell_type": "markdown",
   "id": "933f8ac0-b41e-4e96-b4f9-06a2f3e1d499",
   "metadata": {},
   "source": [
    "**Objectives:**\n",
    "\n",
    "- List popular languages for Data Science \n",
    "- List popular libraries used by Data Scientists \n",
    "- Evaluating arithmetic expressions in Python \n",
    "- Converting Minutes to Hours"
   ]
  },
  {
   "cell_type": "markdown",
   "id": "f14a410e-2214-4998-9755-42b9f7682b1f",
   "metadata": {},
   "source": [
    "Some of the popular languages that Data Scientists use are:\n",
    "1. SQL\n",
    "2. Python\n",
    "3. R\n",
    "4. Java"
   ]
  },
  {
   "cell_type": "markdown",
   "id": "02e2e36c-413c-4a0a-980f-be2f9039db77",
   "metadata": {
    "tags": []
   },
   "source": [
    "Some of the commonly used libraries used by Data Scientists include:\n",
    "1. Pandas\n",
    "2. TensorFlow\n",
    "3. Numpy  \n"
   ]
  },
  {
   "cell_type": "markdown",
   "id": "76c7c334-06bd-46cf-af65-b9e5acb19b07",
   "metadata": {},
   "source": [
    "| Data Science Tools  |\n",
    "|---------------------|\n",
    "| Jupyter Notebooks   |\n",
    "| RStudio             |\n",
    "| TensorFlow          |\n",
    "| Apache Spark        |\n"
   ]
  },
  {
   "cell_type": "markdown",
   "id": "ae42e235-2ef0-4664-a52b-b93cfad5ad96",
   "metadata": {},
   "source": [
    "### Below are a few examples of evaluating arithmetic expressions in Python"
   ]
  },
  {
   "cell_type": "code",
   "execution_count": 3,
   "id": "ac9188cf-bb1a-4990-bd7a-14cced87e74d",
   "metadata": {
    "tags": []
   },
   "outputs": [
    {
     "data": {
      "text/plain": [
       "17"
      ]
     },
     "execution_count": 3,
     "metadata": {},
     "output_type": "execute_result"
    }
   ],
   "source": [
    "(3*4)+5"
   ]
  },
  {
   "cell_type": "markdown",
   "id": "1f5b5e56-0f80-4d1b-85bd-2b9b9c9ac9f4",
   "metadata": {},
   "source": [
    "This will convert 200 minutes to hours by diving by 60 \n"
   ]
  },
  {
   "cell_type": "code",
   "execution_count": 5,
   "id": "8782f4b7-7de9-4506-80b2-c6df4d82a3c2",
   "metadata": {
    "tags": []
   },
   "outputs": [
    {
     "data": {
      "text/plain": [
       "3.3333333333333335"
      ]
     },
     "execution_count": 5,
     "metadata": {},
     "output_type": "execute_result"
    }
   ],
   "source": [
    "200 / 60 \n"
   ]
  },
  {
   "cell_type": "markdown",
   "id": "8bea91e9-bda6-475a-944d-0ce24b1496d7",
   "metadata": {},
   "source": [
    "## Author\n",
    "Johnathan Martinez\n"
   ]
  },
  {
   "cell_type": "code",
   "execution_count": null,
   "id": "fa68b285-be0b-42e5-83ae-7ba2721498b3",
   "metadata": {},
   "outputs": [],
   "source": []
  }
 ],
 "metadata": {
  "kernelspec": {
   "display_name": "Python",
   "language": "python",
   "name": "conda-env-python-py"
  },
  "language_info": {
   "codemirror_mode": {
    "name": "ipython",
    "version": 3
   },
   "file_extension": ".py",
   "mimetype": "text/x-python",
   "name": "python",
   "nbconvert_exporter": "python",
   "pygments_lexer": "ipython3",
   "version": "3.7.12"
  }
 },
 "nbformat": 4,
 "nbformat_minor": 5
}
